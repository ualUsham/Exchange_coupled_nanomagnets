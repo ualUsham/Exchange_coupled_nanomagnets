{
 "cells": [
  {
   "cell_type": "code",
   "execution_count": 1,
   "id": "6ecdc019-01b6-44bd-a380-b6885d83f75a",
   "metadata": {},
   "outputs": [],
   "source": [
    "import pandas as pd\n",
    "from sklearn.model_selection import train_test_split\n",
    "from sklearn.preprocessing import MinMaxScaler"
   ]
  },
  {
   "cell_type": "code",
   "execution_count": 2,
   "id": "73bb540b-da23-404d-9b0f-0b02a34c7574",
   "metadata": {},
   "outputs": [
    {
     "data": {
      "text/html": [
       "<div>\n",
       "<style scoped>\n",
       "    .dataframe tbody tr th:only-of-type {\n",
       "        vertical-align: middle;\n",
       "    }\n",
       "\n",
       "    .dataframe tbody tr th {\n",
       "        vertical-align: top;\n",
       "    }\n",
       "\n",
       "    .dataframe thead th {\n",
       "        text-align: right;\n",
       "    }\n",
       "</style>\n",
       "<table border=\"1\" class=\"dataframe\">\n",
       "  <thead>\n",
       "    <tr style=\"text-align: right;\">\n",
       "      <th></th>\n",
       "      <th>Ms_Fe</th>\n",
       "      <th>Ms_CoPt</th>\n",
       "      <th>K_Fe</th>\n",
       "      <th>K_CoPt</th>\n",
       "      <th>Tc_Fe</th>\n",
       "      <th>Tc_CoPt</th>\n",
       "      <th>WE_Fe</th>\n",
       "      <th>WE_CoPt</th>\n",
       "      <th>BH_Fe</th>\n",
       "      <th>BH_CoPt</th>\n",
       "      <th>Hn</th>\n",
       "    </tr>\n",
       "  </thead>\n",
       "  <tbody>\n",
       "    <tr>\n",
       "      <th>0</th>\n",
       "      <td>1514.515217</td>\n",
       "      <td>105.666376</td>\n",
       "      <td>4.079210</td>\n",
       "      <td>0.647207</td>\n",
       "      <td>905.237462</td>\n",
       "      <td>110.949695</td>\n",
       "      <td>2290.379082</td>\n",
       "      <td>4647.449964</td>\n",
       "      <td>0.433959</td>\n",
       "      <td>3.302074</td>\n",
       "      <td>0.065623</td>\n",
       "    </tr>\n",
       "    <tr>\n",
       "      <th>1</th>\n",
       "      <td>1504.279655</td>\n",
       "      <td>110.358897</td>\n",
       "      <td>4.051641</td>\n",
       "      <td>0.675948</td>\n",
       "      <td>899.119588</td>\n",
       "      <td>115.876842</td>\n",
       "      <td>2274.899993</td>\n",
       "      <td>4853.837813</td>\n",
       "      <td>0.431026</td>\n",
       "      <td>3.448716</td>\n",
       "      <td>0.132418</td>\n",
       "    </tr>\n",
       "    <tr>\n",
       "      <th>2</th>\n",
       "      <td>1493.159510</td>\n",
       "      <td>115.456958</td>\n",
       "      <td>4.021690</td>\n",
       "      <td>0.707174</td>\n",
       "      <td>892.472991</td>\n",
       "      <td>121.229806</td>\n",
       "      <td>2258.083161</td>\n",
       "      <td>5078.062242</td>\n",
       "      <td>0.427839</td>\n",
       "      <td>3.608030</td>\n",
       "      <td>0.199203</td>\n",
       "    </tr>\n",
       "    <tr>\n",
       "      <th>3</th>\n",
       "      <td>1480.020868</td>\n",
       "      <td>121.480404</td>\n",
       "      <td>3.986303</td>\n",
       "      <td>0.744067</td>\n",
       "      <td>884.619923</td>\n",
       "      <td>127.554425</td>\n",
       "      <td>2238.213786</td>\n",
       "      <td>5342.987246</td>\n",
       "      <td>0.424075</td>\n",
       "      <td>3.796263</td>\n",
       "      <td>0.274344</td>\n",
       "    </tr>\n",
       "    <tr>\n",
       "      <th>4</th>\n",
       "      <td>1465.704701</td>\n",
       "      <td>128.043690</td>\n",
       "      <td>3.947743</td>\n",
       "      <td>0.784268</td>\n",
       "      <td>876.063039</td>\n",
       "      <td>134.445874</td>\n",
       "      <td>2216.563658</td>\n",
       "      <td>5631.655619</td>\n",
       "      <td>0.419973</td>\n",
       "      <td>4.001365</td>\n",
       "      <td>0.349476</td>\n",
       "    </tr>\n",
       "  </tbody>\n",
       "</table>\n",
       "</div>"
      ],
      "text/plain": [
       "         Ms_Fe     Ms_CoPt      K_Fe    K_CoPt       Tc_Fe     Tc_CoPt  \\\n",
       "0  1514.515217  105.666376  4.079210  0.647207  905.237462  110.949695   \n",
       "1  1504.279655  110.358897  4.051641  0.675948  899.119588  115.876842   \n",
       "2  1493.159510  115.456958  4.021690  0.707174  892.472991  121.229806   \n",
       "3  1480.020868  121.480404  3.986303  0.744067  884.619923  127.554425   \n",
       "4  1465.704701  128.043690  3.947743  0.784268  876.063039  134.445874   \n",
       "\n",
       "         WE_Fe      WE_CoPt     BH_Fe   BH_CoPt        Hn  \n",
       "0  2290.379082  4647.449964  0.433959  3.302074  0.065623  \n",
       "1  2274.899993  4853.837813  0.431026  3.448716  0.132418  \n",
       "2  2258.083161  5078.062242  0.427839  3.608030  0.199203  \n",
       "3  2238.213786  5342.987246  0.424075  3.796263  0.274344  \n",
       "4  2216.563658  5631.655619  0.419973  4.001365  0.349476  "
      ]
     },
     "execution_count": 2,
     "metadata": {},
     "output_type": "execute_result"
    }
   ],
   "source": [
    "data=pd.read_excel(\"data.xlsx\")\n",
    "data.head()"
   ]
  },
  {
   "cell_type": "code",
   "execution_count": 3,
   "id": "aba56c41-ab11-44d8-b730-3b97568ff6a1",
   "metadata": {},
   "outputs": [],
   "source": [
    "x=data.drop(['Hn'],axis=1)\n",
    "y=data['Hn']"
   ]
  },
  {
   "cell_type": "code",
   "execution_count": 4,
   "id": "c8732b46-c55e-436f-a65e-adaf0c3aac8a",
   "metadata": {},
   "outputs": [
    {
     "data": {
      "text/html": [
       "<div>\n",
       "<style scoped>\n",
       "    .dataframe tbody tr th:only-of-type {\n",
       "        vertical-align: middle;\n",
       "    }\n",
       "\n",
       "    .dataframe tbody tr th {\n",
       "        vertical-align: top;\n",
       "    }\n",
       "\n",
       "    .dataframe thead th {\n",
       "        text-align: right;\n",
       "    }\n",
       "</style>\n",
       "<table border=\"1\" class=\"dataframe\">\n",
       "  <thead>\n",
       "    <tr style=\"text-align: right;\">\n",
       "      <th></th>\n",
       "      <th>Ms_Fe</th>\n",
       "      <th>Ms_CoPt</th>\n",
       "      <th>K_Fe</th>\n",
       "      <th>K_CoPt</th>\n",
       "      <th>Tc_Fe</th>\n",
       "      <th>Tc_CoPt</th>\n",
       "      <th>WE_Fe</th>\n",
       "      <th>WE_CoPt</th>\n",
       "      <th>BH_Fe</th>\n",
       "      <th>BH_CoPt</th>\n",
       "    </tr>\n",
       "  </thead>\n",
       "  <tbody>\n",
       "    <tr>\n",
       "      <th>0</th>\n",
       "      <td>0.873040</td>\n",
       "      <td>0.126960</td>\n",
       "      <td>0.873040</td>\n",
       "      <td>0.126960</td>\n",
       "      <td>0.873040</td>\n",
       "      <td>0.126960</td>\n",
       "      <td>1.000000</td>\n",
       "      <td>0.150023</td>\n",
       "      <td>0.873040</td>\n",
       "      <td>0.126960</td>\n",
       "    </tr>\n",
       "    <tr>\n",
       "      <th>1</th>\n",
       "      <td>0.866066</td>\n",
       "      <td>0.133934</td>\n",
       "      <td>0.866066</td>\n",
       "      <td>0.133934</td>\n",
       "      <td>0.866066</td>\n",
       "      <td>0.133934</td>\n",
       "      <td>0.993071</td>\n",
       "      <td>0.156896</td>\n",
       "      <td>0.866066</td>\n",
       "      <td>0.133934</td>\n",
       "    </tr>\n",
       "    <tr>\n",
       "      <th>2</th>\n",
       "      <td>0.858490</td>\n",
       "      <td>0.141510</td>\n",
       "      <td>0.858490</td>\n",
       "      <td>0.141510</td>\n",
       "      <td>0.858490</td>\n",
       "      <td>0.141510</td>\n",
       "      <td>0.985543</td>\n",
       "      <td>0.164362</td>\n",
       "      <td>0.858490</td>\n",
       "      <td>0.141510</td>\n",
       "    </tr>\n",
       "    <tr>\n",
       "      <th>3</th>\n",
       "      <td>0.849538</td>\n",
       "      <td>0.150462</td>\n",
       "      <td>0.849538</td>\n",
       "      <td>0.150462</td>\n",
       "      <td>0.849538</td>\n",
       "      <td>0.150462</td>\n",
       "      <td>0.976649</td>\n",
       "      <td>0.173185</td>\n",
       "      <td>0.849538</td>\n",
       "      <td>0.150462</td>\n",
       "    </tr>\n",
       "    <tr>\n",
       "      <th>4</th>\n",
       "      <td>0.839784</td>\n",
       "      <td>0.160216</td>\n",
       "      <td>0.839784</td>\n",
       "      <td>0.160216</td>\n",
       "      <td>0.839784</td>\n",
       "      <td>0.160216</td>\n",
       "      <td>0.966958</td>\n",
       "      <td>0.182798</td>\n",
       "      <td>0.839784</td>\n",
       "      <td>0.160216</td>\n",
       "    </tr>\n",
       "  </tbody>\n",
       "</table>\n",
       "</div>"
      ],
      "text/plain": [
       "      Ms_Fe   Ms_CoPt      K_Fe    K_CoPt     Tc_Fe   Tc_CoPt     WE_Fe  \\\n",
       "0  0.873040  0.126960  0.873040  0.126960  0.873040  0.126960  1.000000   \n",
       "1  0.866066  0.133934  0.866066  0.133934  0.866066  0.133934  0.993071   \n",
       "2  0.858490  0.141510  0.858490  0.141510  0.858490  0.141510  0.985543   \n",
       "3  0.849538  0.150462  0.849538  0.150462  0.849538  0.150462  0.976649   \n",
       "4  0.839784  0.160216  0.839784  0.160216  0.839784  0.160216  0.966958   \n",
       "\n",
       "    WE_CoPt     BH_Fe   BH_CoPt  \n",
       "0  0.150023  0.873040  0.126960  \n",
       "1  0.156896  0.866066  0.133934  \n",
       "2  0.164362  0.858490  0.141510  \n",
       "3  0.173185  0.849538  0.150462  \n",
       "4  0.182798  0.839784  0.160216  "
      ]
     },
     "execution_count": 4,
     "metadata": {},
     "output_type": "execute_result"
    }
   ],
   "source": [
    "scaler=MinMaxScaler()\n",
    "x_scaled = scaler.fit_transform(x)\n",
    "x_scaled = pd.DataFrame(x_scaled, columns=x.columns)\n",
    "x_scaled.head()"
   ]
  },
  {
   "cell_type": "code",
   "execution_count": 5,
   "id": "337fc73b-6b07-4f25-bdfe-56fe7e275c59",
   "metadata": {
    "jupyter": {
     "source_hidden": true
    }
   },
   "outputs": [],
   "source": [
    "x_train,x_test,y_train,y_test=train_test_split(x_scaled,y,test_size=0.2,random_state=50)"
   ]
  },
  {
   "cell_type": "code",
   "execution_count": 6,
   "id": "dead31b2-39a4-4d7a-9f53-389e71a04807",
   "metadata": {},
   "outputs": [],
   "source": [
    "from sklearn.svm import SVR\n",
    "from sklearn.metrics import mean_absolute_error, mean_squared_error"
   ]
  },
  {
   "cell_type": "code",
   "execution_count": 7,
   "id": "6fe83c74-e184-4b4b-9c7a-10ed92aae546",
   "metadata": {},
   "outputs": [],
   "source": [
    "svr=SVR(kernel='poly',degree=6).fit(x_train,y_train)"
   ]
  },
  {
   "cell_type": "code",
   "execution_count": 8,
   "id": "769132cc-1dad-4cf3-8d09-edf385021461",
   "metadata": {},
   "outputs": [
    {
     "name": "stdout",
     "output_type": "stream",
     "text": [
      "0.05481151172512567\n",
      "0.004517224510361388\n"
     ]
    }
   ],
   "source": [
    "y_pred=svr.predict(x_test)\n",
    "print(mean_absolute_error(y_pred,y_test))\n",
    "print(mean_squared_error(y_pred,y_test))"
   ]
  },
  {
   "cell_type": "code",
   "execution_count": 10,
   "id": "6e7bb56a-271a-442d-83cd-8206e520b9f3",
   "metadata": {},
   "outputs": [
    {
     "data": {
      "image/png": "[encoded data removed]",
      "text/plain": [
       "<Figure size 640x480 with 1 Axes>"
      ]
     },
     "metadata": {},
     "output_type": "display_data"
    }
   ],
   "source": [
    "import matplotlib.pyplot as plt\n",
    "y_pred = svr.predict(x_test)\n",
    "plt.scatter(y_test, y_pred)\n",
    "plt.xlabel(\"Actual Values\")\n",
    "plt.ylabel(\"Predicted Values\")\n",
    "plt.title(\"Predicted vs. Actual Values\")\n",
    "plt.plot([min(y_test), max(y_test)], [min(y_test), max(y_test)], color='red', linestyle='--')  \n",
    "plt.show()"
   ]
  }
 ],
 "metadata": {
  "kernelspec": {
   "display_name": "Python 3 (ipykernel)",
   "language": "python",
   "name": "python3"
  },
  "language_info": {
   "codemirror_mode": {
    "name": "ipython",
    "version": 3
   },
   "file_extension": ".py",
   "mimetype": "text/x-python",
   "name": "python",
   "nbconvert_exporter": "python",
   "pygments_lexer": "ipython3",
   "version": "3.11.4"
  }
 },
 "nbformat": 4,
 "nbformat_minor": 5
}
